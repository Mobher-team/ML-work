{
  "cells": [
    {
      "cell_type": "code",
      "source": [
        "import pandas as pd\n",
        "import numpy as np\n",
        "from sklearn.preprocessing import LabelEncoder, StandardScaler\n",
        "from sklearn.ensemble import RandomForestRegressor, RandomForestClassifier\n",
        "from sklearn.model_selection import train_test_split\n",
        "from sklearn.metrics import mean_squared_error, accuracy_score\n",
        "import joblib\n",
        "import warnings\n",
        "warnings.filterwarnings('ignore')"
      ],
      "metadata": {
        "id": "Y8GPBr2PMy2M"
      },
      "execution_count": 78,
      "outputs": []
    },
    {
      "cell_type": "code",
      "source": [
        "# Load datasets\n",
        "governorates_df = pd.read_csv('governorates.csv')\n",
        "concrete_df = pd.read_csv('Concrete.csv')\n",
        "materials_df = pd.read_csv('materials_dataset.csv')\n",
        "height_conditions_df = pd.read_csv('height_conditions_egyptian_code.csv')\n",
        "\n",
        "# Clean and prepare data\n",
        "materials_df.rename(columns={'Quantity for 1m²': 'Quantity_for_1m²'}, inplace=True)\n",
        "concrete_df['Environment'] = concrete_df['Environment'].str.strip()\n",
        "concrete_df['Building Element'] = concrete_df['Building Element'].str.strip()\n",
        "\n",
        "# Merge datasets\n",
        "data = pd.merge(concrete_df, materials_df[['Environments', 'Material', 'Type', 'Quantity_for_1m²']],\n",
        "                left_on=\"Environment\", right_on=\"Environments\", how=\"left\")"
      ],
      "metadata": {
        "id": "m5RY71bOBCJU"
      },
      "execution_count": 79,
      "outputs": []
    },
    {
      "cell_type": "code",
      "source": [
        "# Initialize encoders and scalers\n",
        "encoders = {\n",
        "    'Environment': LabelEncoder(),\n",
        "    'Building Element': LabelEncoder(),\n",
        "    'Best Cement': LabelEncoder(),\n",
        "    'Material': LabelEncoder(),\n",
        "    'Type': LabelEncoder()\n",
        "}\n",
        "\n",
        "for column, encoder in encoders.items():\n",
        "    if column in data.columns:\n",
        "        data[column] = encoder.fit_transform(data[column])\n",
        "\n",
        "scaler = StandardScaler()"
      ],
      "metadata": {
        "id": "vEBGkI69BHDy"
      },
      "execution_count": 80,
      "outputs": []
    },
    {
      "cell_type": "code",
      "source": [
        "# Select features and targets\n",
        "features = ['Environment', 'Building Element']\n",
        "numeric_targets = ['Cement (kg/m³)', 'Sand (kg/m³)', 'Aggregates (kg/m³)', 'Water (liters/m³)', 'Quantity_for_1m²']\n",
        "categorical_targets = ['Best Cement', 'Material', 'Type']\n",
        "\n",
        "X = data[features]\n",
        "y_numeric = data[numeric_targets]\n",
        "y_categorical = data[categorical_targets]"
      ],
      "metadata": {
        "id": "HM81a476BKyi"
      },
      "execution_count": 81,
      "outputs": []
    },
    {
      "cell_type": "code",
      "source": [
        "# Scale features and numeric targets\n",
        "X_scaled = scaler.fit_transform(X)\n",
        "y_numeric_scaled = StandardScaler().fit_transform(y_numeric)\n",
        "\n",
        "# Split the data\n",
        "X_train, X_test, y_numeric_train, y_numeric_test, y_categorical_train, y_categorical_test = train_test_split(\n",
        "    X_scaled, y_numeric_scaled, y_categorical, test_size=0.2, random_state=42)\n",
        "\n",
        "# Train Random Forest models\n",
        "rf_regressor = RandomForestRegressor(n_estimators=100, random_state=42)\n",
        "rf_regressor.fit(X_train, y_numeric_train)\n",
        "\n",
        "rf_classifiers = {}\n",
        "for target in categorical_targets:\n",
        "    rf_classifiers[target] = RandomForestClassifier(n_estimators=100, random_state=42)\n",
        "    rf_classifiers[target].fit(X_train, y_categorical_train[target])"
      ],
      "metadata": {
        "id": "rwTWdz50BSL8"
      },
      "execution_count": 82,
      "outputs": []
    },
    {
      "cell_type": "code",
      "source": [
        "# Evaluate models\n",
        "numeric_pred = rf_regressor.predict(X_test)\n",
        "mse = mean_squared_error(y_numeric_test, numeric_pred)\n",
        "print(f\"Mean Squared Error for numeric predictions: {mse}\")\n",
        "\n",
        "for target in categorical_targets:\n",
        "    categorical_pred = rf_classifiers[target].predict(X_test)\n",
        "    accuracy = accuracy_score(y_categorical_test[target], categorical_pred)\n",
        "    print(f\"Accuracy for {target} predictions: {accuracy}\")\n",
        "\n",
        "# Save models\n",
        "joblib.dump(rf_regressor, 'rf_regressor.joblib')\n",
        "for target, model in rf_classifiers.items():\n",
        "    joblib.dump(model, f'rf_classifier_{target}.joblib')\n",
        "\n",
        "# Save scaler\n",
        "joblib.dump(scaler, 'feature_scaler.joblib')\n",
        "\n",
        "# Create governorate to environment mapping\n",
        "gov_env_map = dict(zip(governorates_df['Governorate'], governorates_df['Environment']))"
      ],
      "metadata": {
        "id": "4cj55SU7BSwj",
        "colab": {
          "base_uri": "https://localhost:8080/"
        },
        "outputId": "fce656b6-0ca6-43e4-babd-5822d5955821"
      },
      "execution_count": 83,
      "outputs": [
        {
          "output_type": "stream",
          "name": "stdout",
          "text": [
            "Mean Squared Error for numeric predictions: 0.2511710340520041\n",
            "Accuracy for Best Cement predictions: 1.0\n",
            "Accuracy for Material predictions: 0.0\n",
            "Accuracy for Type predictions: 0.0\n"
          ]
        }
      ]
    },
    {
      "cell_type": "code",
      "source": [
        "def generate_building_description(governorate):\n",
        "    try:\n",
        "        if governorate not in gov_env_map:\n",
        "            return None, None, f\"Error: '{governorate}' is not a valid governorate. Please choose from: {', '.join(gov_env_map.keys())}\"\n",
        "\n",
        "        environment = gov_env_map[governorate]\n",
        "\n",
        "        # Encode environment\n",
        "        env_encoded = encoders['Environment'].transform([environment])[0]\n",
        "\n",
        "        # List of building elements\n",
        "        building_elements = ['Foundation', 'Slabs (Floors)', 'Beams and Columns', 'Exterior Walls', 'Roof']\n",
        "        result_data = []\n",
        "\n",
        "        for building_element in building_elements:\n",
        "            try:\n",
        "                # Encode building element\n",
        "                be_encoded = encoders['Building Element'].transform([building_element])[0]\n",
        "\n",
        "                # Prepare input data for the model\n",
        "                input_data = scaler.transform([[env_encoded, be_encoded]])\n",
        "\n",
        "                # Get numeric predictions\n",
        "                numeric_pred = rf_regressor.predict(input_data)\n",
        "                numeric_pred = StandardScaler().fit(y_numeric).inverse_transform(numeric_pred)\n",
        "\n",
        "                # Get categorical predictions\n",
        "                categorical_pred = {}\n",
        "                for target, model in rf_classifiers.items():\n",
        "                    pred = model.predict(input_data)[0]\n",
        "                    categorical_pred[target] = encoders[target].inverse_transform([pred])[0]\n",
        "\n",
        "                # Append the prediction results for this building element\n",
        "                result_data.append({\n",
        "                    'Building Element': building_element,\n",
        "                    'Best Cement': categorical_pred['Best Cement'],\n",
        "                    'Cement (kg/m³)': max(0, numeric_pred[0][0]),\n",
        "                    'Sand (kg/m³)': max(0, numeric_pred[0][1]),\n",
        "                    'Aggregates (kg/m³)': max(0, numeric_pred[0][2]),\n",
        "                    'Water (liters/m³)': max(0, numeric_pred[0][3]),\n",
        "\n",
        "                })\n",
        "\n",
        "            except Exception as e:\n",
        "                result_data.append({\n",
        "                    'Building Element': building_element,\n",
        "                    'Error': f\"Error in prediction: {str(e)}\"\n",
        "                })\n",
        "\n",
        "        # Convert the result data into a DataFrame\n",
        "        result_df = pd.DataFrame(result_data)\n",
        "\n",
        "        # Add height conditions information\n",
        "        height_info = height_conditions_df[height_conditions_df['Zoning Area'] == environment]\n",
        "\n",
        "        # Check if height_info is empty\n",
        "        if height_info.empty:\n",
        "            height_info_dict = {\n",
        "                'Error': f\"No height condition data found for environment '{environment}'\"\n",
        "            }\n",
        "        else:\n",
        "            height_info_row = height_info.iloc[0]\n",
        "            height_info_dict = {\n",
        "                'Max Height (m)': height_info_row['Max Height (m)'],\n",
        "                'Min Height (m)': height_info_row['Min Height (m)'],\n",
        "                'Floor Area Ratio (FAR)': height_info_row['Floor Area Ratio (FAR)'],\n",
        "                'Setback Requirements': height_info_row['Setback Requirements'],\n",
        "                'Usage Restrictions': height_info_row['Usage Restrictions'],\n",
        "                'Height Condition': height_info_row['Height Condition'],\n",
        "                'Code Reference': height_info_row['Code Reference']\n",
        "            }\n",
        "\n",
        "        # Add materials information\n",
        "        materials_info = materials_df[materials_df['Environments'] == environment]\n",
        "        if materials_info.empty:\n",
        "            materials_info = pd.DataFrame({'Error': [f\"No materials data found for environment '{environment}'\"]})\n",
        "        else:\n",
        "            materials_info = materials_info[['Material', 'Type', 'Quantity_for_1m²']]\n",
        "\n",
        "        return result_df, height_info_dict, materials_info\n",
        "\n",
        "    except Exception as e:\n",
        "        return None, None, f\"Error in prediction: {str(e)}\"\n"
      ],
      "metadata": {
        "id": "CKs8It6NBiZA"
      },
      "execution_count": 84,
      "outputs": []
    },
    {
      "cell_type": "code",
      "source": [
        "#Example usage:\n",
        "description_df, height_info, materials_info = generate_building_description('Damietta')\n",
        "\n",
        "print(\"Building Element Predictions:\")\n",
        "print(description_df)\n",
        "print(\"\\nHeight and Zoning Information:\")\n",
        "for key, value in height_info.items():\n",
        "    print(f\"{key}: {value}\")\n",
        "print(\"\\nMaterials Information:\")\n",
        "print(materials_info)"
      ],
      "metadata": {
        "id": "IUQAfJ8SBkhe",
        "colab": {
          "base_uri": "https://localhost:8080/"
        },
        "outputId": "d8b1a54f-c4d9-4d0a-a402-90584c675424"
      },
      "execution_count": 85,
      "outputs": [
        {
          "output_type": "stream",
          "name": "stdout",
          "text": [
            "Building Element Predictions:\n",
            "    Building Element                         Best Cement  Cement (kg/m³)  \\\n",
            "0         Foundation      Sulfate-Resistant Cement (SRC)          431.35   \n",
            "1     Slabs (Floors)  Ordinary Portland Cement (Type II)          398.86   \n",
            "2  Beams and Columns                Portland Slag Cement          435.64   \n",
            "3     Exterior Walls                Portland Slag Cement          334.76   \n",
            "4               Roof                Portland Slag Cement          343.00   \n",
            "\n",
            "   Sand (kg/m³)  Aggregates (kg/m³)  Water (liters/m³)  \n",
            "0        656.55             1312.10             194.75  \n",
            "1        601.72             1203.42             199.42  \n",
            "2        654.45             1307.91             196.04  \n",
            "3        688.72             1376.52             167.88  \n",
            "4        686.00             1371.00             171.00  \n",
            "\n",
            "Height and Zoning Information:\n",
            "Error: No height condition data found for environment 'Nile Delta'\n",
            "\n",
            "Materials Information:\n",
            "               Material                        Type  Quantity_for_1m²\n",
            "3             Hempcrete          Insulation, infill                 9\n",
            "7   Hemp-Lime Composite  Thermal insulation, infill                 6\n",
            "13             Mycelium                Walls, roofs                11\n",
            "23          Lime Mortar      Wall finishes, masonry                 9\n",
            "26     Terracotta Tiles        Roofing and flooring                25\n"
          ]
        }
      ]
    }
  ],
  "metadata": {
    "colab": {
      "provenance": []
    },
    "kernelspec": {
      "display_name": "Python 3",
      "name": "python3"
    },
    "language_info": {
      "name": "python"
    }
  },
  "nbformat": 4,
  "nbformat_minor": 0
}